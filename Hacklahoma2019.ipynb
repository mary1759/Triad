{
 "cells": [
  {
   "cell_type": "code",
   "execution_count": 11,
   "metadata": {},
   "outputs": [],
   "source": [
    "import numpy as np\n",
    "import pandas as pd\n",
    "import pickle\n",
    "import sklearn\n",
    "from sklearn.ensemble import RandomForestClassifier"
   ]
  },
  {
   "cell_type": "code",
   "execution_count": 35,
   "metadata": {},
   "outputs": [],
   "source": [
    "import csv\n",
    "\n",
    "from flask import Flask\n",
    "from flask import render_template\n",
    "import importlib.util as lb\n",
    "from flask import request, jsonify\n",
    "import functools\n",
    "from flask import (\n",
    "    Blueprint, flash, g, redirect, render_template, request, session, url_for\n",
    ")"
   ]
  },
  {
   "cell_type": "code",
   "execution_count": 12,
   "metadata": {},
   "outputs": [],
   "source": [
    "# data = pd.DataFrame()\n",
    "# din = open('D:/Hacklahoma-2019/review_data.pkl', 'rb')\n",
    "# data = pickle.load(din)\n",
    "# din.close()"
   ]
  },
  {
   "cell_type": "code",
   "execution_count": 13,
   "metadata": {},
   "outputs": [],
   "source": [
    "# data['User_ID'] = data['User_ID'].astype('category').cat.codes\n",
    "# data['Product_ID'] = data['Product_ID'].astype('category').cat.codes\n",
    "# data['Gender'] = data['Gender'].astype('category').cat.codes\n",
    "# data['Age'] = data['Age'].astype('category').cat.codes\n",
    "# data['Occupation'] = data['Occupation'].astype('category').cat.codes\n",
    "# data['City_Category'] = data['City_Category'].astype('category').cat.codes\n",
    "# data['Stay_In_Current_City_Years'] = data['Stay_In_Current_City_Years'].astype('category').cat.codes\n",
    "# data['Marital_Status'] = data['Marital_Status'].astype('category').cat.codes\n",
    "# data['Product_Category_1'] = data['Product_Category_1'].astype('category').cat.codes\n",
    "# data['Product_Category_2'] = data['Product_Category_2'].astype('category').cat.codes\n",
    "# data['Product_Category_3'] = data['Product_Category_3'].astype('category').cat.codes\n",
    "# data['Purchase'] = data['Purchase'].astype('category').cat.codes"
   ]
  },
  {
   "cell_type": "code",
   "execution_count": 14,
   "metadata": {},
   "outputs": [],
   "source": [
    "# y_label = data['Product_Category_1']"
   ]
  },
  {
   "cell_type": "code",
   "execution_count": 15,
   "metadata": {},
   "outputs": [],
   "source": [
    "# del data['User_ID']\n",
    "# del data['Product_ID']"
   ]
  },
  {
   "cell_type": "code",
   "execution_count": 16,
   "metadata": {},
   "outputs": [],
   "source": [
    "# del data['Product_Category_1']"
   ]
  },
  {
   "cell_type": "code",
   "execution_count": 17,
   "metadata": {},
   "outputs": [],
   "source": [
    "# data.head()"
   ]
  },
  {
   "cell_type": "code",
   "execution_count": 18,
   "metadata": {},
   "outputs": [],
   "source": [
    "# from sklearn.model_selection import train_test_split  \n",
    "# X_train, X_test, y_train, y_test = train_test_split(data, y_label, test_size = 0.30) "
   ]
  },
  {
   "cell_type": "code",
   "execution_count": 19,
   "metadata": {},
   "outputs": [],
   "source": [
    "# din = open('X_train.pkl', 'wb')\n",
    "# pickle.dump(X_train, din)\n",
    "# din.close()\n",
    "\n",
    "# din = open('X_test.pkl', 'wb')\n",
    "# pickle.dump(X_test, din)\n",
    "# din.close()\n",
    "\n",
    "# din = open('Y_train.pkl', 'wb')\n",
    "# pickle.dump(y_train, din)\n",
    "# din.close()\n",
    "\n",
    "# din = open('Y_test.pkl', 'wb')\n",
    "# pickle.dump(y_test, din)\n",
    "# din.close()"
   ]
  },
  {
   "cell_type": "code",
   "execution_count": 20,
   "metadata": {},
   "outputs": [],
   "source": []
  },
  {
   "cell_type": "code",
   "execution_count": 21,
   "metadata": {},
   "outputs": [],
   "source": [
    "# from sklearn.neighbors import KNeighborsClassifier\n",
    "\n",
    "# neigh = KNeighborsClassifier(n_neighbors=5)\n",
    "# neigh.fit(X_train, y_train) "
   ]
  },
  {
   "cell_type": "code",
   "execution_count": 22,
   "metadata": {},
   "outputs": [],
   "source": [
    "# y_pred = neigh.predict(X_test)"
   ]
  },
  {
   "cell_type": "code",
   "execution_count": 23,
   "metadata": {},
   "outputs": [],
   "source": [
    "# neigh.score(X_test, y_test)"
   ]
  },
  {
   "cell_type": "code",
   "execution_count": 26,
   "metadata": {},
   "outputs": [],
   "source": [
    "\n",
    "\n",
    "# clf = RandomForestClassifier(n_estimators=100)\n",
    "# clf.fit(X_train, y_train)\n",
    "\n",
    "# din = open('data_model.pkl', 'wb')\n",
    "# pickle.dump(clf, din)\n",
    "# din.close()"
   ]
  },
  {
   "cell_type": "code",
   "execution_count": 59,
   "metadata": {},
   "outputs": [
    {
     "data": {
      "text/html": [
       "<div>\n",
       "<style scoped>\n",
       "    .dataframe tbody tr th:only-of-type {\n",
       "        vertical-align: middle;\n",
       "    }\n",
       "\n",
       "    .dataframe tbody tr th {\n",
       "        vertical-align: top;\n",
       "    }\n",
       "\n",
       "    .dataframe thead th {\n",
       "        text-align: right;\n",
       "    }\n",
       "</style>\n",
       "<table border=\"1\" class=\"dataframe\">\n",
       "  <thead>\n",
       "    <tr style=\"text-align: right;\">\n",
       "      <th></th>\n",
       "      <th>Gender</th>\n",
       "      <th>Age</th>\n",
       "      <th>Occupation</th>\n",
       "      <th>City_Category</th>\n",
       "      <th>Stay_In_Current_City_Years</th>\n",
       "      <th>Marital_Status</th>\n",
       "      <th>Product_Category_2</th>\n",
       "      <th>Product_Category_3</th>\n",
       "      <th>Purchase</th>\n",
       "    </tr>\n",
       "  </thead>\n",
       "  <tbody>\n",
       "    <tr>\n",
       "      <th>89157</th>\n",
       "      <td>0</td>\n",
       "      <td>3</td>\n",
       "      <td>16</td>\n",
       "      <td>1</td>\n",
       "      <td>2</td>\n",
       "      <td>1</td>\n",
       "      <td>11</td>\n",
       "      <td>0</td>\n",
       "      <td>8514</td>\n",
       "    </tr>\n",
       "    <tr>\n",
       "      <th>322626</th>\n",
       "      <td>0</td>\n",
       "      <td>2</td>\n",
       "      <td>20</td>\n",
       "      <td>0</td>\n",
       "      <td>3</td>\n",
       "      <td>1</td>\n",
       "      <td>10</td>\n",
       "      <td>13</td>\n",
       "      <td>6211</td>\n",
       "    </tr>\n",
       "    <tr>\n",
       "      <th>151568</th>\n",
       "      <td>0</td>\n",
       "      <td>3</td>\n",
       "      <td>19</td>\n",
       "      <td>1</td>\n",
       "      <td>0</td>\n",
       "      <td>0</td>\n",
       "      <td>12</td>\n",
       "      <td>12</td>\n",
       "      <td>7597</td>\n",
       "    </tr>\n",
       "    <tr>\n",
       "      <th>227988</th>\n",
       "      <td>0</td>\n",
       "      <td>5</td>\n",
       "      <td>7</td>\n",
       "      <td>0</td>\n",
       "      <td>2</td>\n",
       "      <td>0</td>\n",
       "      <td>13</td>\n",
       "      <td>13</td>\n",
       "      <td>7662</td>\n",
       "    </tr>\n",
       "    <tr>\n",
       "      <th>303484</th>\n",
       "      <td>0</td>\n",
       "      <td>3</td>\n",
       "      <td>5</td>\n",
       "      <td>0</td>\n",
       "      <td>2</td>\n",
       "      <td>0</td>\n",
       "      <td>14</td>\n",
       "      <td>0</td>\n",
       "      <td>7792</td>\n",
       "    </tr>\n",
       "  </tbody>\n",
       "</table>\n",
       "</div>"
      ],
      "text/plain": [
       "        Gender  Age  Occupation  City_Category  Stay_In_Current_City_Years  \\\n",
       "89157        0    3          16              1                           2   \n",
       "322626       0    2          20              0                           3   \n",
       "151568       0    3          19              1                           0   \n",
       "227988       0    5           7              0                           2   \n",
       "303484       0    3           5              0                           2   \n",
       "\n",
       "        Marital_Status  Product_Category_2  Product_Category_3  Purchase  \n",
       "89157                1                  11                   0      8514  \n",
       "322626               1                  10                  13      6211  \n",
       "151568               0                  12                  12      7597  \n",
       "227988               0                  13                  13      7662  \n",
       "303484               0                  14                   0      7792  "
      ]
     },
     "execution_count": 59,
     "metadata": {},
     "output_type": "execute_result"
    }
   ],
   "source": [
    "din = open('X_test.pkl', 'rb')\n",
    "X_test = pickle.load(din)\n",
    "din.close()\n",
    "\n",
    "X_test.head()"
   ]
  },
  {
   "cell_type": "code",
   "execution_count": 72,
   "metadata": {},
   "outputs": [],
   "source": [
    "# data = pd.DataFrame()\n",
    "def _start(input_dict):\n",
    "#     input_list = []\n",
    "#     for x, y in input_dict.items():\n",
    "#         input_list.append(y)\n",
    "        \n",
    "#     flat_list = []\n",
    "#     for sub in input_list:\n",
    "#         for items in sub:\n",
    "#             flat_list.append(int(items))\n",
    "    \n",
    "        \n",
    "    req = pd.DataFrame(columns=['Gender','Age','Occupation','City_Category','Stay_In_Currect_City_Years',\n",
    "                      'Marital_Status','Product_Category_2','Product_Category_3','Purchase'])\n",
    "    req = pd.DataFrame.from_dict(input_dict)\n",
    "#     print(req)\n",
    "    din = open('X_train.pkl', 'rb')\n",
    "    X_train = pickle.load(din)\n",
    "    din.close()\n",
    "\n",
    "    din = open('X_test.pkl', 'rb')\n",
    "    X_test = pickle.load(din)\n",
    "    din.close()\n",
    "\n",
    "    din = open('Y_train.pkl', 'rb')\n",
    "    Y_train = pickle.load(din)\n",
    "    din.close()\n",
    "\n",
    "#     din = open('Y_test.pkl', 'rb')\n",
    "#     Y_test = pickle.load(din)\n",
    "#     din.close()\n",
    "\n",
    "    din = open('data_model.pkl', 'rb')\n",
    "    clf_m = pickle.load(din)\n",
    "    din.close()\n",
    "\n",
    "    y_pred_clf = clf_m.predict(req)\n",
    "#     print(y_pred_clf)\n",
    "    \n",
    "    return y_pred_clf"
   ]
  },
  {
   "cell_type": "code",
   "execution_count": null,
   "metadata": {},
   "outputs": [
    {
     "name": "stdout",
     "output_type": "stream",
     "text": [
      " * Serving Flask app \"__main__\" (lazy loading)\n",
      " * Environment: production\n",
      "   WARNING: Do not use the development server in a production environment.\n",
      "   Use a production WSGI server instead.\n",
      " * Debug mode: off\n"
     ]
    },
    {
     "name": "stderr",
     "output_type": "stream",
     "text": [
      " * Running on http://127.0.0.1:5000/ (Press CTRL+C to quit)\n"
     ]
    },
    {
     "name": "stdout",
     "output_type": "stream",
     "text": [
      "{'genderRadio': ['1'], 'Age': ['23'], 'occupation': ['1'], 'cityCategory': ['0'], 'CityStayPeroid': ['3'], 'marital': ['1'], 'category_2 ': ['2'], 'category_3 ': ['3'], 'Budget': ['1224']}\n"
     ]
    },
    {
     "name": "stderr",
     "output_type": "stream",
     "text": [
      "/Library/Frameworks/Python.framework/Versions/3.7/lib/python3.7/site-packages/sklearn/base.py:251: UserWarning: Trying to unpickle estimator DecisionTreeClassifier from version 0.19.1 when using version 0.20.2. This might lead to breaking code or invalid results. Use at your own risk.\n",
      "  UserWarning)\n",
      "/Library/Frameworks/Python.framework/Versions/3.7/lib/python3.7/site-packages/sklearn/base.py:251: UserWarning: Trying to unpickle estimator RandomForestClassifier from version 0.19.1 when using version 0.20.2. This might lead to breaking code or invalid results. Use at your own risk.\n",
      "  UserWarning)\n",
      "127.0.0.1 - - [10/Feb/2019 11:57:39] \"POST / HTTP/1.1\" 200 -\n"
     ]
    },
    {
     "name": "stdout",
     "output_type": "stream",
     "text": [
      "[1]\n",
      "{'genderRadio': ['1'], 'Age': ['24'], 'occupation': ['1'], 'cityCategory': ['0'], 'CityStayPeroid': ['4'], 'marital': ['1'], 'category_2 ': ['7'], 'category_3 ': ['4'], 'Budget': ['1000000']}\n"
     ]
    },
    {
     "name": "stderr",
     "output_type": "stream",
     "text": [
      "/Library/Frameworks/Python.framework/Versions/3.7/lib/python3.7/site-packages/sklearn/base.py:251: UserWarning: Trying to unpickle estimator DecisionTreeClassifier from version 0.19.1 when using version 0.20.2. This might lead to breaking code or invalid results. Use at your own risk.\n",
      "  UserWarning)\n",
      "/Library/Frameworks/Python.framework/Versions/3.7/lib/python3.7/site-packages/sklearn/base.py:251: UserWarning: Trying to unpickle estimator RandomForestClassifier from version 0.19.1 when using version 0.20.2. This might lead to breaking code or invalid results. Use at your own risk.\n",
      "  UserWarning)\n",
      "127.0.0.1 - - [10/Feb/2019 12:07:21] \"POST / HTTP/1.1\" 200 -\n"
     ]
    },
    {
     "name": "stdout",
     "output_type": "stream",
     "text": [
      "[5]\n",
      "{'genderRadio': ['1'], 'Age': ['21'], 'occupation': ['6'], 'cityCategory': ['2'], 'CityStayPeroid': ['5'], 'marital': ['0'], 'category_2 ': ['6'], 'category_3 ': ['3'], 'Budget': ['1000']}\n"
     ]
    },
    {
     "name": "stderr",
     "output_type": "stream",
     "text": [
      "/Library/Frameworks/Python.framework/Versions/3.7/lib/python3.7/site-packages/sklearn/base.py:251: UserWarning: Trying to unpickle estimator DecisionTreeClassifier from version 0.19.1 when using version 0.20.2. This might lead to breaking code or invalid results. Use at your own risk.\n",
      "  UserWarning)\n",
      "/Library/Frameworks/Python.framework/Versions/3.7/lib/python3.7/site-packages/sklearn/base.py:251: UserWarning: Trying to unpickle estimator RandomForestClassifier from version 0.19.1 when using version 0.20.2. This might lead to breaking code or invalid results. Use at your own risk.\n",
      "  UserWarning)\n",
      "127.0.0.1 - - [10/Feb/2019 12:15:44] \"POST / HTTP/1.1\" 200 -\n"
     ]
    },
    {
     "name": "stdout",
     "output_type": "stream",
     "text": [
      "[4]\n",
      "{'genderRadio': ['1'], 'Age': ['25'], 'occupation': ['17'], 'cityCategory': ['0'], 'CityStayPeroid': ['20'], 'marital': ['0'], 'category_2 ': ['16'], 'category_3 ': ['6'], 'Budget': ['100']}\n"
     ]
    },
    {
     "name": "stderr",
     "output_type": "stream",
     "text": [
      "/Library/Frameworks/Python.framework/Versions/3.7/lib/python3.7/site-packages/sklearn/base.py:251: UserWarning: Trying to unpickle estimator DecisionTreeClassifier from version 0.19.1 when using version 0.20.2. This might lead to breaking code or invalid results. Use at your own risk.\n",
      "  UserWarning)\n",
      "/Library/Frameworks/Python.framework/Versions/3.7/lib/python3.7/site-packages/sklearn/base.py:251: UserWarning: Trying to unpickle estimator RandomForestClassifier from version 0.19.1 when using version 0.20.2. This might lead to breaking code or invalid results. Use at your own risk.\n",
      "  UserWarning)\n",
      "127.0.0.1 - - [10/Feb/2019 12:41:57] \"POST / HTTP/1.1\" 200 -\n"
     ]
    },
    {
     "name": "stdout",
     "output_type": "stream",
     "text": [
      "[3]\n",
      "{'genderRadio': ['1'], 'Age': ['24'], 'occupation': ['1'], 'cityCategory': ['2'], 'CityStayPeroid': ['7'], 'marital': ['1'], 'category_2 ': ['12'], 'category_3 ': ['18'], 'Budget': ['2000']}\n"
     ]
    },
    {
     "name": "stderr",
     "output_type": "stream",
     "text": [
      "/Library/Frameworks/Python.framework/Versions/3.7/lib/python3.7/site-packages/sklearn/base.py:251: UserWarning: Trying to unpickle estimator DecisionTreeClassifier from version 0.19.1 when using version 0.20.2. This might lead to breaking code or invalid results. Use at your own risk.\n",
      "  UserWarning)\n",
      "/Library/Frameworks/Python.framework/Versions/3.7/lib/python3.7/site-packages/sklearn/base.py:251: UserWarning: Trying to unpickle estimator RandomForestClassifier from version 0.19.1 when using version 0.20.2. This might lead to breaking code or invalid results. Use at your own risk.\n",
      "  UserWarning)\n",
      "127.0.0.1 - - [10/Feb/2019 12:56:13] \"POST / HTTP/1.1\" 200 -\n"
     ]
    },
    {
     "name": "stdout",
     "output_type": "stream",
     "text": [
      "[7]\n",
      "{'genderRadio': ['1'], 'Age': ['20'], 'occupation': ['1'], 'cityCategory': ['0'], 'CityStayPeroid': ['1'], 'marital': ['0'], 'category_2 ': ['2'], 'category_3 ': ['5'], 'Budget': ['200']}\n"
     ]
    },
    {
     "name": "stderr",
     "output_type": "stream",
     "text": [
      "/Library/Frameworks/Python.framework/Versions/3.7/lib/python3.7/site-packages/sklearn/base.py:251: UserWarning: Trying to unpickle estimator DecisionTreeClassifier from version 0.19.1 when using version 0.20.2. This might lead to breaking code or invalid results. Use at your own risk.\n",
      "  UserWarning)\n",
      "/Library/Frameworks/Python.framework/Versions/3.7/lib/python3.7/site-packages/sklearn/base.py:251: UserWarning: Trying to unpickle estimator RandomForestClassifier from version 0.19.1 when using version 0.20.2. This might lead to breaking code or invalid results. Use at your own risk.\n",
      "  UserWarning)\n",
      "127.0.0.1 - - [10/Feb/2019 13:10:20] \"POST / HTTP/1.1\" 200 -\n"
     ]
    },
    {
     "name": "stdout",
     "output_type": "stream",
     "text": [
      "[1]\n"
     ]
    }
   ],
   "source": [
    "app = Flask(__name__)\n",
    "\n",
    "# @app.route('/', methods=['get'])\n",
    "# def show_user_profile():\n",
    "#     # show the user profile for that user\n",
    "#     return \"Hello\",200\n",
    "# app.config['CORS_HEADERS'] = 'Content-Type'\n",
    "\n",
    "# cors = CORS(app, resources={r\"/\": {\"origins\": \"http://127.0.0.1:5000\"}})\n",
    "\n",
    "# @app.route('/', methods=['POST'])\n",
    "# @cross_origin(origin='localhost',headers=['Content- Type','Authorization'])\n",
    "\n",
    "@app.route('/', methods=['POST'])\n",
    "def parse_request():\n",
    "#     request.data  # data is empty\n",
    "    input_dict = dict(request.form)\n",
    "    print(input_dict)\n",
    "    y_pred = _start(input_dict)\n",
    "    final_str = \"Customer is looking to buy the product with category \"\n",
    "    print(y_pred)\n",
    "    final = final_str + str(y_pred)\n",
    "    return final, 200\n",
    "    # need posted daa here\n",
    "\n",
    "# @app.route('/<int:post_id>')\n",
    "# def show_post(post_id):\n",
    "#     # show the post with the given id, the id is an integer\n",
    "#     return 'Post %d' % post_id\n",
    "\n",
    "# @app.route('/<path:subpath>')\n",
    "# def show_subpath(subpath):\n",
    "#     # show the subpath after /path/\n",
    "#     return 'Subpath %s' % subpath\n",
    " \n",
    "if __name__ == \"__main__\":\n",
    "    app.run()\n",
    "\n"
   ]
  },
  {
   "cell_type": "code",
   "execution_count": 30,
   "metadata": {},
   "outputs": [
    {
     "data": {
      "text/plain": [
       "array([2, 5, 7, ..., 0, 2, 7], dtype=int8)"
      ]
     },
     "execution_count": 30,
     "metadata": {},
     "output_type": "execute_result"
    }
   ],
   "source": [
    "y_pred_clf"
   ]
  },
  {
   "cell_type": "code",
   "execution_count": 32,
   "metadata": {},
   "outputs": [
    {
     "data": {
      "text/plain": [
       "0.9775475278098144"
      ]
     },
     "execution_count": 32,
     "metadata": {},
     "output_type": "execute_result"
    }
   ],
   "source": [
    "clf_m.score(X_test, Y_test)"
   ]
  },
  {
   "cell_type": "code",
   "execution_count": 25,
   "metadata": {},
   "outputs": [],
   "source": []
  },
  {
   "cell_type": "code",
   "execution_count": 39,
   "metadata": {},
   "outputs": [],
   "source": [
    "# req['Gender'] = 1\n",
    "# req['Age'] = 21\n",
    "# req['Occupation'] = 3\n",
    "# req['City_Category'] = 2\n",
    "# req['Stay_In_Currect_City_Years'] = 6\n",
    "# req['Marital_Status'] = 0\n",
    "# req['Product_Category_2'] = 8\n",
    "# req['Product_Category_3'] = 5\n",
    "# req['Purchase'] = 1900\n",
    "\n",
    "# # req = pd.DataFrame([1,21,3,2,6,0,8,5,1900],columns=['Gender','Age','Occupation','City_Category','Stay_In_Current_City_Years'\n",
    "# #                                             ,'Marital_Status','Product_Category_2','Product_Category_3','Purchase'])\n"
   ]
  }
 ],
 "metadata": {
  "kernelspec": {
   "display_name": "Python 3",
   "language": "python",
   "name": "python3"
  },
  "language_info": {
   "codemirror_mode": {
    "name": "ipython",
    "version": 3
   },
   "file_extension": ".py",
   "mimetype": "text/x-python",
   "name": "python",
   "nbconvert_exporter": "python",
   "pygments_lexer": "ipython3",
   "version": "3.7.0"
  }
 },
 "nbformat": 4,
 "nbformat_minor": 2
}
